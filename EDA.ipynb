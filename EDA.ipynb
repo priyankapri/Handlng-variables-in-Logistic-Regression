{
  "nbformat": 4,
  "nbformat_minor": 0,
  "metadata": {
    "colab": {
      "name": "EDA.ipynb",
      "provenance": [],
      "collapsed_sections": [],
      "authorship_tag": "ABX9TyObRv6Vw8cUe/3bjECEq7xu",
      "include_colab_link": true
    },
    "kernelspec": {
      "name": "python3",
      "display_name": "Python 3"
    },
    "language_info": {
      "name": "python"
    }
  },
  "cells": [
    {
      "cell_type": "markdown",
      "metadata": {
        "id": "view-in-github",
        "colab_type": "text"
      },
      "source": [
        "<a href=\"https://colab.research.google.com/github/priyankapri/MARS_MSEEL/blob/master/EDA.ipynb\" target=\"_parent\"><img src=\"https://colab.research.google.com/assets/colab-badge.svg\" alt=\"Open In Colab\"/></a>"
      ]
    },
    {
      "cell_type": "markdown",
      "source": [
        "**Import dataset**"
      ],
      "metadata": {
        "id": "J5LdGChehN_K"
      }
    },
    {
      "cell_type": "code",
      "source": [
        "import pandas as pd\n",
        "import numpy as np\n",
        "from matplotlib import pyplot as plt\n",
        "from numpy import random\n",
        "import seaborn as sns\n",
        "from sklearn.datasets import make_classification as mk\n",
        "from scipy.stats import truncnorm\n",
        "!pip install wget \n",
        "\n",
        "import wget\n",
        "wget.download('https://raw.githubusercontent.com/BorisMuzellec/MissingDataOT/master/utils.py')\n",
        "from utils import *\n",
        "random.seed(123456)\n"
      ],
      "metadata": {
        "id": "QD0CUfi5hs_e"
      },
      "execution_count": null,
      "outputs": []
    },
    {
      "cell_type": "code",
      "execution_count": null,
      "metadata": {
        "id": "8zK4GDHJgJGa"
      },
      "outputs": [],
      "source": [
        "data1 = pd.read_csv ('EDA_test.csv')"
      ]
    },
    {
      "cell_type": "markdown",
      "source": [
        "Lets have first look of the data"
      ],
      "metadata": {
        "id": "-l7S4a_Nill7"
      }
    },
    {
      "cell_type": "code",
      "source": [
        "data1"
      ],
      "metadata": {
        "colab": {
          "base_uri": "https://localhost:8080/",
          "height": 423
        },
        "id": "wGqOUMDuiVPe",
        "outputId": "06737989-c2b5-4b1b-98a8-1a2550a4102e"
      },
      "execution_count": null,
      "outputs": [
        {
          "output_type": "execute_result",
          "data": {
            "text/plain": [
              "     ID  Severity  Disease Stage  Death  Age  Gender  Race  Diabetes  CHF  \\\n",
              "0     1         3              1      0   62       1     2         2    2   \n",
              "1     2         3              0      0   33       2     1         1    1   \n",
              "2     3         2              2      0   47       1     1         2    2   \n",
              "3     4         1              3      0   30       1     1         1    1   \n",
              "4     5         1              3      0   48       2     1         2    1   \n",
              "..  ...       ...            ...    ...  ...     ...   ...       ...  ...   \n",
              "95   96         2              0      1   83       2     1         2    2   \n",
              "96   97         3              0      0   36       2     1         2    1   \n",
              "97   98         3              1      0   55       1     1         1    1   \n",
              "98   99         3              0      0   63       1     3         2    2   \n",
              "99  100         2              0      0   69       1     1         1    1   \n",
              "\n",
              "    Biomarker2  Biomarker1  \n",
              "0     1.178655        3.25  \n",
              "1          NaN         NaN  \n",
              "2          NaN         NaN  \n",
              "3     0.457425        1.58  \n",
              "4     0.336472        1.40  \n",
              "..         ...         ...  \n",
              "95         NaN         NaN  \n",
              "96         NaN         NaN  \n",
              "97         NaN         NaN  \n",
              "98    0.463734        1.59  \n",
              "99    1.944481        6.99  \n",
              "\n",
              "[100 rows x 11 columns]"
            ],
            "text/html": [
              "\n",
              "  <div id=\"df-ba15a5b1-3ef1-469c-a9b2-33e71f3bd1db\">\n",
              "    <div class=\"colab-df-container\">\n",
              "      <div>\n",
              "<style scoped>\n",
              "    .dataframe tbody tr th:only-of-type {\n",
              "        vertical-align: middle;\n",
              "    }\n",
              "\n",
              "    .dataframe tbody tr th {\n",
              "        vertical-align: top;\n",
              "    }\n",
              "\n",
              "    .dataframe thead th {\n",
              "        text-align: right;\n",
              "    }\n",
              "</style>\n",
              "<table border=\"1\" class=\"dataframe\">\n",
              "  <thead>\n",
              "    <tr style=\"text-align: right;\">\n",
              "      <th></th>\n",
              "      <th>ID</th>\n",
              "      <th>Severity</th>\n",
              "      <th>Disease Stage</th>\n",
              "      <th>Death</th>\n",
              "      <th>Age</th>\n",
              "      <th>Gender</th>\n",
              "      <th>Race</th>\n",
              "      <th>Diabetes</th>\n",
              "      <th>CHF</th>\n",
              "      <th>Biomarker2</th>\n",
              "      <th>Biomarker1</th>\n",
              "    </tr>\n",
              "  </thead>\n",
              "  <tbody>\n",
              "    <tr>\n",
              "      <th>0</th>\n",
              "      <td>1</td>\n",
              "      <td>3</td>\n",
              "      <td>1</td>\n",
              "      <td>0</td>\n",
              "      <td>62</td>\n",
              "      <td>1</td>\n",
              "      <td>2</td>\n",
              "      <td>2</td>\n",
              "      <td>2</td>\n",
              "      <td>1.178655</td>\n",
              "      <td>3.25</td>\n",
              "    </tr>\n",
              "    <tr>\n",
              "      <th>1</th>\n",
              "      <td>2</td>\n",
              "      <td>3</td>\n",
              "      <td>0</td>\n",
              "      <td>0</td>\n",
              "      <td>33</td>\n",
              "      <td>2</td>\n",
              "      <td>1</td>\n",
              "      <td>1</td>\n",
              "      <td>1</td>\n",
              "      <td>NaN</td>\n",
              "      <td>NaN</td>\n",
              "    </tr>\n",
              "    <tr>\n",
              "      <th>2</th>\n",
              "      <td>3</td>\n",
              "      <td>2</td>\n",
              "      <td>2</td>\n",
              "      <td>0</td>\n",
              "      <td>47</td>\n",
              "      <td>1</td>\n",
              "      <td>1</td>\n",
              "      <td>2</td>\n",
              "      <td>2</td>\n",
              "      <td>NaN</td>\n",
              "      <td>NaN</td>\n",
              "    </tr>\n",
              "    <tr>\n",
              "      <th>3</th>\n",
              "      <td>4</td>\n",
              "      <td>1</td>\n",
              "      <td>3</td>\n",
              "      <td>0</td>\n",
              "      <td>30</td>\n",
              "      <td>1</td>\n",
              "      <td>1</td>\n",
              "      <td>1</td>\n",
              "      <td>1</td>\n",
              "      <td>0.457425</td>\n",
              "      <td>1.58</td>\n",
              "    </tr>\n",
              "    <tr>\n",
              "      <th>4</th>\n",
              "      <td>5</td>\n",
              "      <td>1</td>\n",
              "      <td>3</td>\n",
              "      <td>0</td>\n",
              "      <td>48</td>\n",
              "      <td>2</td>\n",
              "      <td>1</td>\n",
              "      <td>2</td>\n",
              "      <td>1</td>\n",
              "      <td>0.336472</td>\n",
              "      <td>1.40</td>\n",
              "    </tr>\n",
              "    <tr>\n",
              "      <th>...</th>\n",
              "      <td>...</td>\n",
              "      <td>...</td>\n",
              "      <td>...</td>\n",
              "      <td>...</td>\n",
              "      <td>...</td>\n",
              "      <td>...</td>\n",
              "      <td>...</td>\n",
              "      <td>...</td>\n",
              "      <td>...</td>\n",
              "      <td>...</td>\n",
              "      <td>...</td>\n",
              "    </tr>\n",
              "    <tr>\n",
              "      <th>95</th>\n",
              "      <td>96</td>\n",
              "      <td>2</td>\n",
              "      <td>0</td>\n",
              "      <td>1</td>\n",
              "      <td>83</td>\n",
              "      <td>2</td>\n",
              "      <td>1</td>\n",
              "      <td>2</td>\n",
              "      <td>2</td>\n",
              "      <td>NaN</td>\n",
              "      <td>NaN</td>\n",
              "    </tr>\n",
              "    <tr>\n",
              "      <th>96</th>\n",
              "      <td>97</td>\n",
              "      <td>3</td>\n",
              "      <td>0</td>\n",
              "      <td>0</td>\n",
              "      <td>36</td>\n",
              "      <td>2</td>\n",
              "      <td>1</td>\n",
              "      <td>2</td>\n",
              "      <td>1</td>\n",
              "      <td>NaN</td>\n",
              "      <td>NaN</td>\n",
              "    </tr>\n",
              "    <tr>\n",
              "      <th>97</th>\n",
              "      <td>98</td>\n",
              "      <td>3</td>\n",
              "      <td>1</td>\n",
              "      <td>0</td>\n",
              "      <td>55</td>\n",
              "      <td>1</td>\n",
              "      <td>1</td>\n",
              "      <td>1</td>\n",
              "      <td>1</td>\n",
              "      <td>NaN</td>\n",
              "      <td>NaN</td>\n",
              "    </tr>\n",
              "    <tr>\n",
              "      <th>98</th>\n",
              "      <td>99</td>\n",
              "      <td>3</td>\n",
              "      <td>0</td>\n",
              "      <td>0</td>\n",
              "      <td>63</td>\n",
              "      <td>1</td>\n",
              "      <td>3</td>\n",
              "      <td>2</td>\n",
              "      <td>2</td>\n",
              "      <td>0.463734</td>\n",
              "      <td>1.59</td>\n",
              "    </tr>\n",
              "    <tr>\n",
              "      <th>99</th>\n",
              "      <td>100</td>\n",
              "      <td>2</td>\n",
              "      <td>0</td>\n",
              "      <td>0</td>\n",
              "      <td>69</td>\n",
              "      <td>1</td>\n",
              "      <td>1</td>\n",
              "      <td>1</td>\n",
              "      <td>1</td>\n",
              "      <td>1.944481</td>\n",
              "      <td>6.99</td>\n",
              "    </tr>\n",
              "  </tbody>\n",
              "</table>\n",
              "<p>100 rows × 11 columns</p>\n",
              "</div>\n",
              "      <button class=\"colab-df-convert\" onclick=\"convertToInteractive('df-ba15a5b1-3ef1-469c-a9b2-33e71f3bd1db')\"\n",
              "              title=\"Convert this dataframe to an interactive table.\"\n",
              "              style=\"display:none;\">\n",
              "        \n",
              "  <svg xmlns=\"http://www.w3.org/2000/svg\" height=\"24px\"viewBox=\"0 0 24 24\"\n",
              "       width=\"24px\">\n",
              "    <path d=\"M0 0h24v24H0V0z\" fill=\"none\"/>\n",
              "    <path d=\"M18.56 5.44l.94 2.06.94-2.06 2.06-.94-2.06-.94-.94-2.06-.94 2.06-2.06.94zm-11 1L8.5 8.5l.94-2.06 2.06-.94-2.06-.94L8.5 2.5l-.94 2.06-2.06.94zm10 10l.94 2.06.94-2.06 2.06-.94-2.06-.94-.94-2.06-.94 2.06-2.06.94z\"/><path d=\"M17.41 7.96l-1.37-1.37c-.4-.4-.92-.59-1.43-.59-.52 0-1.04.2-1.43.59L10.3 9.45l-7.72 7.72c-.78.78-.78 2.05 0 2.83L4 21.41c.39.39.9.59 1.41.59.51 0 1.02-.2 1.41-.59l7.78-7.78 2.81-2.81c.8-.78.8-2.07 0-2.86zM5.41 20L4 18.59l7.72-7.72 1.47 1.35L5.41 20z\"/>\n",
              "  </svg>\n",
              "      </button>\n",
              "      \n",
              "  <style>\n",
              "    .colab-df-container {\n",
              "      display:flex;\n",
              "      flex-wrap:wrap;\n",
              "      gap: 12px;\n",
              "    }\n",
              "\n",
              "    .colab-df-convert {\n",
              "      background-color: #E8F0FE;\n",
              "      border: none;\n",
              "      border-radius: 50%;\n",
              "      cursor: pointer;\n",
              "      display: none;\n",
              "      fill: #1967D2;\n",
              "      height: 32px;\n",
              "      padding: 0 0 0 0;\n",
              "      width: 32px;\n",
              "    }\n",
              "\n",
              "    .colab-df-convert:hover {\n",
              "      background-color: #E2EBFA;\n",
              "      box-shadow: 0px 1px 2px rgba(60, 64, 67, 0.3), 0px 1px 3px 1px rgba(60, 64, 67, 0.15);\n",
              "      fill: #174EA6;\n",
              "    }\n",
              "\n",
              "    [theme=dark] .colab-df-convert {\n",
              "      background-color: #3B4455;\n",
              "      fill: #D2E3FC;\n",
              "    }\n",
              "\n",
              "    [theme=dark] .colab-df-convert:hover {\n",
              "      background-color: #434B5C;\n",
              "      box-shadow: 0px 1px 3px 1px rgba(0, 0, 0, 0.15);\n",
              "      filter: drop-shadow(0px 1px 2px rgba(0, 0, 0, 0.3));\n",
              "      fill: #FFFFFF;\n",
              "    }\n",
              "  </style>\n",
              "\n",
              "      <script>\n",
              "        const buttonEl =\n",
              "          document.querySelector('#df-ba15a5b1-3ef1-469c-a9b2-33e71f3bd1db button.colab-df-convert');\n",
              "        buttonEl.style.display =\n",
              "          google.colab.kernel.accessAllowed ? 'block' : 'none';\n",
              "\n",
              "        async function convertToInteractive(key) {\n",
              "          const element = document.querySelector('#df-ba15a5b1-3ef1-469c-a9b2-33e71f3bd1db');\n",
              "          const dataTable =\n",
              "            await google.colab.kernel.invokeFunction('convertToInteractive',\n",
              "                                                     [key], {});\n",
              "          if (!dataTable) return;\n",
              "\n",
              "          const docLinkHtml = 'Like what you see? Visit the ' +\n",
              "            '<a target=\"_blank\" href=https://colab.research.google.com/notebooks/data_table.ipynb>data table notebook</a>'\n",
              "            + ' to learn more about interactive tables.';\n",
              "          element.innerHTML = '';\n",
              "          dataTable['output_type'] = 'display_data';\n",
              "          await google.colab.output.renderOutput(dataTable, element);\n",
              "          const docLink = document.createElement('div');\n",
              "          docLink.innerHTML = docLinkHtml;\n",
              "          element.appendChild(docLink);\n",
              "        }\n",
              "      </script>\n",
              "    </div>\n",
              "  </div>\n",
              "  "
            ]
          },
          "metadata": {},
          "execution_count": 4
        }
      ]
    },
    {
      "cell_type": "markdown",
      "source": [
        "**First look of the data tells that**: Severity, disease stage, death, gender, race, diabetes, CHF are categorical variables while Age, Biomarker 1 & 2 are continous variable. From summary, there seems to be missing data values in Biomarker field. Also, dataset dimesions as 100 rows with 11 columns."
      ],
      "metadata": {
        "id": "y-FAYCtMipL0"
      }
    },
    {
      "cell_type": "markdown",
      "source": [
        "**Very first glance should contain at least the following:**\n",
        "1. **Data type**: Idea is to change the datatype as required. \n",
        "\n",
        "2. **Univariate Analysis/Summary statistics (Raw data)**: Observe mean, median, range, Idea is to quick data validation, value plausibility and outlier detection. For this step, categorical and continous variable should be observed different as some statistics such as mean for categorical variable wont make much sense compared to continous data. \n",
        "Further, grouping by outcome will help us undertand data in more depth thereby increasing precision in statistical inference.\n",
        "\n",
        "3. **Missingness**: Three type of missingness\n",
        "\n",
        "      1.   MCAR: Missinhg completle at random\n",
        "      2.   MAR:  Missing at random\n",
        "      3.   MNAR : Missing not at random\n",
        "\n",
        "4. **Collinearity**: Idea is to check given variable relationship among themselves and outcome. This step will be helpful at the time of variable selection during model development.     \n"
      ],
      "metadata": {
        "id": "PzyB2gFpjRwa"
      }
    },
    {
      "cell_type": "markdown",
      "source": [
        "**1. Data type**"
      ],
      "metadata": {
        "id": "LJBsdFYMkoCN"
      }
    },
    {
      "cell_type": "code",
      "source": [
        "dict(data1.dtypes)"
      ],
      "metadata": {
        "id": "ZqahjLHohcE6",
        "colab": {
          "base_uri": "https://localhost:8080/"
        },
        "outputId": "3e97362e-33df-46cf-b1a6-ae6450edf11f"
      },
      "execution_count": null,
      "outputs": [
        {
          "output_type": "execute_result",
          "data": {
            "text/plain": [
              "{'Age': dtype('int64'),\n",
              " 'Biomarker1': dtype('float64'),\n",
              " 'Biomarker2': dtype('float64'),\n",
              " 'CHF': dtype('int64'),\n",
              " 'Death': dtype('int64'),\n",
              " 'Diabetes': dtype('int64'),\n",
              " 'Disease Stage': dtype('int64'),\n",
              " 'Gender': dtype('int64'),\n",
              " 'ID': dtype('int64'),\n",
              " 'Race': dtype('int64'),\n",
              " 'Severity': dtype('int64')}"
            ]
          },
          "metadata": {},
          "execution_count": 5
        }
      ]
    },
    {
      "cell_type": "code",
      "source": [
        "data1['Age'] = data1['Age'].astype(float)\n",
        "data1.info()\n",
        "categorical_data= data1.select_dtypes(include='int64')\n",
        "cont_data= data1.select_dtypes(include='float64')\n",
        "categorical_data=categorical_data.drop(columns='ID')"
      ],
      "metadata": {
        "id": "KNQRcydmkndO",
        "colab": {
          "base_uri": "https://localhost:8080/"
        },
        "outputId": "f1c82d25-85da-44da-da5c-fcd16a7f0397"
      },
      "execution_count": null,
      "outputs": [
        {
          "output_type": "stream",
          "name": "stdout",
          "text": [
            "<class 'pandas.core.frame.DataFrame'>\n",
            "RangeIndex: 100 entries, 0 to 99\n",
            "Data columns (total 11 columns):\n",
            " #   Column         Non-Null Count  Dtype  \n",
            "---  ------         --------------  -----  \n",
            " 0   ID             100 non-null    int64  \n",
            " 1   Severity       100 non-null    int64  \n",
            " 2   Disease Stage  100 non-null    int64  \n",
            " 3   Death          100 non-null    int64  \n",
            " 4   Age            100 non-null    float64\n",
            " 5   Gender         100 non-null    int64  \n",
            " 6   Race           100 non-null    int64  \n",
            " 7   Diabetes       100 non-null    int64  \n",
            " 8   CHF            100 non-null    int64  \n",
            " 9   Biomarker2     55 non-null     float64\n",
            " 10  Biomarker1     55 non-null     float64\n",
            "dtypes: float64(3), int64(8)\n",
            "memory usage: 8.7 KB\n"
          ]
        }
      ]
    },
    {
      "cell_type": "markdown",
      "source": [
        "*We can observe that except biomarker 1& 2 and age (which was converted to float to have consistency accross numeric data, all variables are of type integer. Biomarker 1&2 have about 45% data missing in this dataset*"
      ],
      "metadata": {
        "id": "cGa1Xzbbluxy"
      }
    },
    {
      "cell_type": "markdown",
      "source": [
        "**2. Univariate Analysis/Summary statistics**\n",
        "\n",
        "With experience, one would often do this step simultaneously. For the sake of this tutorial, I will categorize this into two :\n",
        "\n",
        "1.   Continous parameters\n",
        "2.   Categorical parameters\n",
        "\n"
      ],
      "metadata": {
        "id": "3p-2CottnIPn"
      }
    },
    {
      "cell_type": "code",
      "source": [
        "cont_data.describe()"
      ],
      "metadata": {
        "id": "BXSPNLgorCb6",
        "colab": {
          "base_uri": "https://localhost:8080/",
          "height": 300
        },
        "outputId": "24ff981c-995c-46b7-bc22-3542e52ce72d"
      },
      "execution_count": null,
      "outputs": [
        {
          "output_type": "execute_result",
          "data": {
            "text/plain": [
              "             Age  Biomarker2  Biomarker1\n",
              "count  100.00000   55.000000   55.000000\n",
              "mean    58.74000    0.762899    2.814909\n",
              "std     14.07241    0.621207    3.536809\n",
              "min     30.00000    0.009950    1.010000\n",
              "25%     48.00000    0.405465    1.500000\n",
              "50%     58.00000    0.553885    1.740000\n",
              "75%     67.50000    1.064115    2.900000\n",
              "max     90.00000    3.259250   26.030000"
            ],
            "text/html": [
              "\n",
              "  <div id=\"df-b7d0d2c1-6dc0-485c-9a29-df73d2e6f291\">\n",
              "    <div class=\"colab-df-container\">\n",
              "      <div>\n",
              "<style scoped>\n",
              "    .dataframe tbody tr th:only-of-type {\n",
              "        vertical-align: middle;\n",
              "    }\n",
              "\n",
              "    .dataframe tbody tr th {\n",
              "        vertical-align: top;\n",
              "    }\n",
              "\n",
              "    .dataframe thead th {\n",
              "        text-align: right;\n",
              "    }\n",
              "</style>\n",
              "<table border=\"1\" class=\"dataframe\">\n",
              "  <thead>\n",
              "    <tr style=\"text-align: right;\">\n",
              "      <th></th>\n",
              "      <th>Age</th>\n",
              "      <th>Biomarker2</th>\n",
              "      <th>Biomarker1</th>\n",
              "    </tr>\n",
              "  </thead>\n",
              "  <tbody>\n",
              "    <tr>\n",
              "      <th>count</th>\n",
              "      <td>100.00000</td>\n",
              "      <td>55.000000</td>\n",
              "      <td>55.000000</td>\n",
              "    </tr>\n",
              "    <tr>\n",
              "      <th>mean</th>\n",
              "      <td>58.74000</td>\n",
              "      <td>0.762899</td>\n",
              "      <td>2.814909</td>\n",
              "    </tr>\n",
              "    <tr>\n",
              "      <th>std</th>\n",
              "      <td>14.07241</td>\n",
              "      <td>0.621207</td>\n",
              "      <td>3.536809</td>\n",
              "    </tr>\n",
              "    <tr>\n",
              "      <th>min</th>\n",
              "      <td>30.00000</td>\n",
              "      <td>0.009950</td>\n",
              "      <td>1.010000</td>\n",
              "    </tr>\n",
              "    <tr>\n",
              "      <th>25%</th>\n",
              "      <td>48.00000</td>\n",
              "      <td>0.405465</td>\n",
              "      <td>1.500000</td>\n",
              "    </tr>\n",
              "    <tr>\n",
              "      <th>50%</th>\n",
              "      <td>58.00000</td>\n",
              "      <td>0.553885</td>\n",
              "      <td>1.740000</td>\n",
              "    </tr>\n",
              "    <tr>\n",
              "      <th>75%</th>\n",
              "      <td>67.50000</td>\n",
              "      <td>1.064115</td>\n",
              "      <td>2.900000</td>\n",
              "    </tr>\n",
              "    <tr>\n",
              "      <th>max</th>\n",
              "      <td>90.00000</td>\n",
              "      <td>3.259250</td>\n",
              "      <td>26.030000</td>\n",
              "    </tr>\n",
              "  </tbody>\n",
              "</table>\n",
              "</div>\n",
              "      <button class=\"colab-df-convert\" onclick=\"convertToInteractive('df-b7d0d2c1-6dc0-485c-9a29-df73d2e6f291')\"\n",
              "              title=\"Convert this dataframe to an interactive table.\"\n",
              "              style=\"display:none;\">\n",
              "        \n",
              "  <svg xmlns=\"http://www.w3.org/2000/svg\" height=\"24px\"viewBox=\"0 0 24 24\"\n",
              "       width=\"24px\">\n",
              "    <path d=\"M0 0h24v24H0V0z\" fill=\"none\"/>\n",
              "    <path d=\"M18.56 5.44l.94 2.06.94-2.06 2.06-.94-2.06-.94-.94-2.06-.94 2.06-2.06.94zm-11 1L8.5 8.5l.94-2.06 2.06-.94-2.06-.94L8.5 2.5l-.94 2.06-2.06.94zm10 10l.94 2.06.94-2.06 2.06-.94-2.06-.94-.94-2.06-.94 2.06-2.06.94z\"/><path d=\"M17.41 7.96l-1.37-1.37c-.4-.4-.92-.59-1.43-.59-.52 0-1.04.2-1.43.59L10.3 9.45l-7.72 7.72c-.78.78-.78 2.05 0 2.83L4 21.41c.39.39.9.59 1.41.59.51 0 1.02-.2 1.41-.59l7.78-7.78 2.81-2.81c.8-.78.8-2.07 0-2.86zM5.41 20L4 18.59l7.72-7.72 1.47 1.35L5.41 20z\"/>\n",
              "  </svg>\n",
              "      </button>\n",
              "      \n",
              "  <style>\n",
              "    .colab-df-container {\n",
              "      display:flex;\n",
              "      flex-wrap:wrap;\n",
              "      gap: 12px;\n",
              "    }\n",
              "\n",
              "    .colab-df-convert {\n",
              "      background-color: #E8F0FE;\n",
              "      border: none;\n",
              "      border-radius: 50%;\n",
              "      cursor: pointer;\n",
              "      display: none;\n",
              "      fill: #1967D2;\n",
              "      height: 32px;\n",
              "      padding: 0 0 0 0;\n",
              "      width: 32px;\n",
              "    }\n",
              "\n",
              "    .colab-df-convert:hover {\n",
              "      background-color: #E2EBFA;\n",
              "      box-shadow: 0px 1px 2px rgba(60, 64, 67, 0.3), 0px 1px 3px 1px rgba(60, 64, 67, 0.15);\n",
              "      fill: #174EA6;\n",
              "    }\n",
              "\n",
              "    [theme=dark] .colab-df-convert {\n",
              "      background-color: #3B4455;\n",
              "      fill: #D2E3FC;\n",
              "    }\n",
              "\n",
              "    [theme=dark] .colab-df-convert:hover {\n",
              "      background-color: #434B5C;\n",
              "      box-shadow: 0px 1px 3px 1px rgba(0, 0, 0, 0.15);\n",
              "      filter: drop-shadow(0px 1px 2px rgba(0, 0, 0, 0.3));\n",
              "      fill: #FFFFFF;\n",
              "    }\n",
              "  </style>\n",
              "\n",
              "      <script>\n",
              "        const buttonEl =\n",
              "          document.querySelector('#df-b7d0d2c1-6dc0-485c-9a29-df73d2e6f291 button.colab-df-convert');\n",
              "        buttonEl.style.display =\n",
              "          google.colab.kernel.accessAllowed ? 'block' : 'none';\n",
              "\n",
              "        async function convertToInteractive(key) {\n",
              "          const element = document.querySelector('#df-b7d0d2c1-6dc0-485c-9a29-df73d2e6f291');\n",
              "          const dataTable =\n",
              "            await google.colab.kernel.invokeFunction('convertToInteractive',\n",
              "                                                     [key], {});\n",
              "          if (!dataTable) return;\n",
              "\n",
              "          const docLinkHtml = 'Like what you see? Visit the ' +\n",
              "            '<a target=\"_blank\" href=https://colab.research.google.com/notebooks/data_table.ipynb>data table notebook</a>'\n",
              "            + ' to learn more about interactive tables.';\n",
              "          element.innerHTML = '';\n",
              "          dataTable['output_type'] = 'display_data';\n",
              "          await google.colab.output.renderOutput(dataTable, element);\n",
              "          const docLink = document.createElement('div');\n",
              "          docLink.innerHTML = docLinkHtml;\n",
              "          element.appendChild(docLink);\n",
              "        }\n",
              "      </script>\n",
              "    </div>\n",
              "  </div>\n",
              "  "
            ]
          },
          "metadata": {},
          "execution_count": 7
        }
      ]
    },
    {
      "cell_type": "markdown",
      "source": [
        "*As observed, 45% missingness is present in biomarker 1 &2. On average, age is 58 years that range from 30-90 years. Since mean & median (50%)is almost similar, we can expect age data to be normally distributed in the dataset. This is important as many model assumes normal distribution. Also, 75% data lies below 67 years, meaning people in this dataset likely to be free from additional fraility risk factors that naturally increases with age specifically above 70 .*\n",
        "\n",
        "*For biomarker1, due to difference between mean and median, we would expect data to be considerably skewed to the left. In addition, we expect data to have less spread, so far from normal. In comparison, biomarker2 data will more spread but non-normal.*\n",
        "\n",
        "*In both biomarkers, max point is further out and considerable amount of data (75%) lies well below max point, we can expect outliers in the data beyond third quartiles*\n",
        "\n",
        "Most often we would have many predictors and ploting  each could be difficult and/or unnecessary task. These summary statistics comes handy at that time. However, once can further explore these distributions by distribution plots etc."
      ],
      "metadata": {
        "id": "EcgzPFkMuYTT"
      }
    },
    {
      "cell_type": "code",
      "source": [
        "data1.hist(['Biomarker2','Biomarker1','Age'])\n",
        "plt.show()"
      ],
      "metadata": {
        "id": "ZDMLV0PQwLqg",
        "colab": {
          "base_uri": "https://localhost:8080/",
          "height": 281
        },
        "outputId": "4c588e3a-50d1-4a62-a442-9d1fa5996787"
      },
      "execution_count": null,
      "outputs": [
        {
          "output_type": "display_data",
          "data": {
            "text/plain": [
              "<Figure size 432x288 with 4 Axes>"
            ],
            "image/png": "[encoded data removed]"
          },
          "metadata": {
            "needs_background": "light"
          }
        }
      ]
    },
    {
      "cell_type": "markdown",
      "source": [
        "Conclusions drawn from summary statistics can now be visualized. One point to note here that mean might not make much sense in Biomarker data due to presenece of outliers that inflate/deflate the mean assessment. In here, median is more likley to be looked at. "
      ],
      "metadata": {
        "id": "8-Sdejvw0xh0"
      }
    },
    {
      "cell_type": "markdown",
      "source": [
        "**Catgeorical Data Summary Statistics**"
      ],
      "metadata": {
        "id": "nicl-i1Eh7ba"
      }
    },
    {
      "cell_type": "code",
      "source": [
        "from tabulate import tabulate\n",
        "\n",
        "namelabel = {\"Gender\":     {2: \"Female\", 1:\"Male\"},\n",
        "                \"Race\": {1: \"White\", 2:\"AfricanAmerican\", 3: \"Other\"},\n",
        "             \"CHF\":{2:\"Yes\",1:\"No\"},\n",
        "            \"Diabetes\":{2:\"Yes\",1:\"No\"} }\n",
        "\n",
        "categorical_data = categorical_data.replace(namelabel)\n",
        "categorical_data.head()               "
      ],
      "metadata": {
        "id": "jDhaT8y6jfNj",
        "colab": {
          "base_uri": "https://localhost:8080/",
          "height": 206
        },
        "outputId": "67d810e9-5fba-48f8-9fa9-d30eb3b952fa"
      },
      "execution_count": null,
      "outputs": [
        {
          "output_type": "execute_result",
          "data": {
            "text/plain": [
              "   Severity  Disease Stage  Death  Gender             Race Diabetes  CHF\n",
              "0         3              1      0    Male  AfricanAmerican      Yes  Yes\n",
              "1         3              0      0  Female            White       No   No\n",
              "2         2              2      0    Male            White      Yes  Yes\n",
              "3         1              3      0    Male            White       No   No\n",
              "4         1              3      0  Female            White      Yes   No"
            ],
            "text/html": [
              "\n",
              "  <div id=\"df-cc5b5a25-25c5-446b-8856-d76abae22e38\">\n",
              "    <div class=\"colab-df-container\">\n",
              "      <div>\n",
              "<style scoped>\n",
              "    .dataframe tbody tr th:only-of-type {\n",
              "        vertical-align: middle;\n",
              "    }\n",
              "\n",
              "    .dataframe tbody tr th {\n",
              "        vertical-align: top;\n",
              "    }\n",
              "\n",
              "    .dataframe thead th {\n",
              "        text-align: right;\n",
              "    }\n",
              "</style>\n",
              "<table border=\"1\" class=\"dataframe\">\n",
              "  <thead>\n",
              "    <tr style=\"text-align: right;\">\n",
              "      <th></th>\n",
              "      <th>Severity</th>\n",
              "      <th>Disease Stage</th>\n",
              "      <th>Death</th>\n",
              "      <th>Gender</th>\n",
              "      <th>Race</th>\n",
              "      <th>Diabetes</th>\n",
              "      <th>CHF</th>\n",
              "    </tr>\n",
              "  </thead>\n",
              "  <tbody>\n",
              "    <tr>\n",
              "      <th>0</th>\n",
              "      <td>3</td>\n",
              "      <td>1</td>\n",
              "      <td>0</td>\n",
              "      <td>Male</td>\n",
              "      <td>AfricanAmerican</td>\n",
              "      <td>Yes</td>\n",
              "      <td>Yes</td>\n",
              "    </tr>\n",
              "    <tr>\n",
              "      <th>1</th>\n",
              "      <td>3</td>\n",
              "      <td>0</td>\n",
              "      <td>0</td>\n",
              "      <td>Female</td>\n",
              "      <td>White</td>\n",
              "      <td>No</td>\n",
              "      <td>No</td>\n",
              "    </tr>\n",
              "    <tr>\n",
              "      <th>2</th>\n",
              "      <td>2</td>\n",
              "      <td>2</td>\n",
              "      <td>0</td>\n",
              "      <td>Male</td>\n",
              "      <td>White</td>\n",
              "      <td>Yes</td>\n",
              "      <td>Yes</td>\n",
              "    </tr>\n",
              "    <tr>\n",
              "      <th>3</th>\n",
              "      <td>1</td>\n",
              "      <td>3</td>\n",
              "      <td>0</td>\n",
              "      <td>Male</td>\n",
              "      <td>White</td>\n",
              "      <td>No</td>\n",
              "      <td>No</td>\n",
              "    </tr>\n",
              "    <tr>\n",
              "      <th>4</th>\n",
              "      <td>1</td>\n",
              "      <td>3</td>\n",
              "      <td>0</td>\n",
              "      <td>Female</td>\n",
              "      <td>White</td>\n",
              "      <td>Yes</td>\n",
              "      <td>No</td>\n",
              "    </tr>\n",
              "  </tbody>\n",
              "</table>\n",
              "</div>\n",
              "      <button class=\"colab-df-convert\" onclick=\"convertToInteractive('df-cc5b5a25-25c5-446b-8856-d76abae22e38')\"\n",
              "              title=\"Convert this dataframe to an interactive table.\"\n",
              "              style=\"display:none;\">\n",
              "        \n",
              "  <svg xmlns=\"http://www.w3.org/2000/svg\" height=\"24px\"viewBox=\"0 0 24 24\"\n",
              "       width=\"24px\">\n",
              "    <path d=\"M0 0h24v24H0V0z\" fill=\"none\"/>\n",
              "    <path d=\"M18.56 5.44l.94 2.06.94-2.06 2.06-.94-2.06-.94-.94-2.06-.94 2.06-2.06.94zm-11 1L8.5 8.5l.94-2.06 2.06-.94-2.06-.94L8.5 2.5l-.94 2.06-2.06.94zm10 10l.94 2.06.94-2.06 2.06-.94-2.06-.94-.94-2.06-.94 2.06-2.06.94z\"/><path d=\"M17.41 7.96l-1.37-1.37c-.4-.4-.92-.59-1.43-.59-.52 0-1.04.2-1.43.59L10.3 9.45l-7.72 7.72c-.78.78-.78 2.05 0 2.83L4 21.41c.39.39.9.59 1.41.59.51 0 1.02-.2 1.41-.59l7.78-7.78 2.81-2.81c.8-.78.8-2.07 0-2.86zM5.41 20L4 18.59l7.72-7.72 1.47 1.35L5.41 20z\"/>\n",
              "  </svg>\n",
              "      </button>\n",
              "      \n",
              "  <style>\n",
              "    .colab-df-container {\n",
              "      display:flex;\n",
              "      flex-wrap:wrap;\n",
              "      gap: 12px;\n",
              "    }\n",
              "\n",
              "    .colab-df-convert {\n",
              "      background-color: #E8F0FE;\n",
              "      border: none;\n",
              "      border-radius: 50%;\n",
              "      cursor: pointer;\n",
              "      display: none;\n",
              "      fill: #1967D2;\n",
              "      height: 32px;\n",
              "      padding: 0 0 0 0;\n",
              "      width: 32px;\n",
              "    }\n",
              "\n",
              "    .colab-df-convert:hover {\n",
              "      background-color: #E2EBFA;\n",
              "      box-shadow: 0px 1px 2px rgba(60, 64, 67, 0.3), 0px 1px 3px 1px rgba(60, 64, 67, 0.15);\n",
              "      fill: #174EA6;\n",
              "    }\n",
              "\n",
              "    [theme=dark] .colab-df-convert {\n",
              "      background-color: #3B4455;\n",
              "      fill: #D2E3FC;\n",
              "    }\n",
              "\n",
              "    [theme=dark] .colab-df-convert:hover {\n",
              "      background-color: #434B5C;\n",
              "      box-shadow: 0px 1px 3px 1px rgba(0, 0, 0, 0.15);\n",
              "      filter: drop-shadow(0px 1px 2px rgba(0, 0, 0, 0.3));\n",
              "      fill: #FFFFFF;\n",
              "    }\n",
              "  </style>\n",
              "\n",
              "      <script>\n",
              "        const buttonEl =\n",
              "          document.querySelector('#df-cc5b5a25-25c5-446b-8856-d76abae22e38 button.colab-df-convert');\n",
              "        buttonEl.style.display =\n",
              "          google.colab.kernel.accessAllowed ? 'block' : 'none';\n",
              "\n",
              "        async function convertToInteractive(key) {\n",
              "          const element = document.querySelector('#df-cc5b5a25-25c5-446b-8856-d76abae22e38');\n",
              "          const dataTable =\n",
              "            await google.colab.kernel.invokeFunction('convertToInteractive',\n",
              "                                                     [key], {});\n",
              "          if (!dataTable) return;\n",
              "\n",
              "          const docLinkHtml = 'Like what you see? Visit the ' +\n",
              "            '<a target=\"_blank\" href=https://colab.research.google.com/notebooks/data_table.ipynb>data table notebook</a>'\n",
              "            + ' to learn more about interactive tables.';\n",
              "          element.innerHTML = '';\n",
              "          dataTable['output_type'] = 'display_data';\n",
              "          await google.colab.output.renderOutput(dataTable, element);\n",
              "          const docLink = document.createElement('div');\n",
              "          docLink.innerHTML = docLinkHtml;\n",
              "          element.appendChild(docLink);\n",
              "        }\n",
              "      </script>\n",
              "    </div>\n",
              "  </div>\n",
              "  "
            ]
          },
          "metadata": {},
          "execution_count": 8
        }
      ]
    },
    {
      "cell_type": "code",
      "source": [
        "def my_function(categoricaldata):\n",
        "  for x in categoricaldata:\n",
        "    dfcat = (data1[x].value_counts()/data1[x].value_counts().sum()*100)\n",
        "    print(dfcat)\n",
        "\n",
        "my_function(categorical_data)"
      ],
      "metadata": {
        "id": "-TVaqx34e_Xj",
        "colab": {
          "base_uri": "https://localhost:8080/"
        },
        "outputId": "c27b112a-125f-4ea4-96ab-35cc3e6860d4"
      },
      "execution_count": null,
      "outputs": [
        {
          "output_type": "stream",
          "name": "stdout",
          "text": [
            "2    36.0\n",
            "1    34.0\n",
            "3    30.0\n",
            "Name: Severity, dtype: float64\n",
            "0    58.0\n",
            "2    17.0\n",
            "1    14.0\n",
            "3    11.0\n",
            "Name: Disease Stage, dtype: float64\n",
            "0    89.0\n",
            "1    11.0\n",
            "Name: Death, dtype: float64\n",
            "2    53.0\n",
            "1    47.0\n",
            "Name: Gender, dtype: float64\n",
            "1    68.0\n",
            "2    24.0\n",
            "3     8.0\n",
            "Name: Race, dtype: float64\n",
            "1    65.0\n",
            "2    35.0\n",
            "Name: Diabetes, dtype: float64\n",
            "2    57.0\n",
            "1    43.0\n",
            "Name: CHF, dtype: float64\n"
          ]
        }
      ]
    },
    {
      "cell_type": "markdown",
      "source": [
        "Above represent proportion of patients for each categorical variable in the dataset. It shows, highest severity grade level 2 is present in about 36% followed by grade1 as 34%. If grade3 being severe, we can say that in the entire population, about 70% data has no to moderate severeity or only 30% are severly ill. \n",
        "\n",
        "For staging, 3 being highest, we can say that stage 2&3 exists in about 28% in total while 72% have no or mild form of disease.Therefore, probability of finding a diseased in this dataset is less than 30%. \n",
        "\n",
        "11% of total cohort died, 53% (gender=2) are female while males represents about 47% in the dataset. It tells us we might have to include risk fators in the model that might be associated with gender. Further if we look death stratified by gender could give us hint about which gender had more outcome such as death. In other words, in this data the disease studied could put particular gender at risk. A very raw assessment of \"At-risk population\". Similarly, for race 1 being White,data predominanty will assess likely factors associated with white population therefore, model might be more applicable in white population.\n",
        "\n",
        "Regarding diseases such as Diabetes, Chronic heart failure (CHF) about 35% ,57% had the disease. In essence, probability of finding a patient with CHF is likely more than 50%. Further, cross tabulating disease condition, likely give you clue regarding sicker population likely having both diabetes and CHF. More sick is the person, higher is chance of death compared to single or no condition in the dataset.\n"
      ],
      "metadata": {
        "id": "duW0t4YCuv9b"
      }
    },
    {
      "cell_type": "markdown",
      "source": [
        "These finding further substantiated if summary statistics are calculated stratfied by outcome or any othe predictor of choice to have better interpretability. These steps are important to understand and many questions at this point can be asked. Such as:\n",
        "\n",
        "*   Does data represents the true sample from population? For example, if high rate of people with CHF is expected or if CHF is indeed a major risk factor in this population? If this is true, then it becomes important to include CHF as primary predictor during model development process and change derived variable accordingly.\n",
        "\n",
        "As you can observe, glimpse of the data can provide us very valuable information before even beginning the modelling process. This becomes important when we are developing models for inferential as well as predictive analytics."
      ],
      "metadata": {
        "id": "jW4Lfsk1yBBC"
      }
    },
    {
      "cell_type": "markdown",
      "source": [
        "**Missingness**"
      ],
      "metadata": {
        "id": "x2XmT3TK0bN-"
      }
    },
    {
      "cell_type": "markdown",
      "source": [
        "Handling missing data could be a daunting process which may or may not lead to spurious association thus impacting prediction or inference at the time of model development. Broadly, missing data is classified into three:\n",
        "- Missing Completely At Random (MCAR) : No relationship is observed with missing/avaiable data. In other words, random missingness.\n",
        "- Missing Not At Random (MNAR): Relationship can be identified for example if one is missing and another is present\n",
        "- Missing At Random (MAR) : Systemic relationship exists regarding data missingness and avaiable data.\n",
        "\n",
        "The goal for this part of EDA is to reduce bias while handling uncertainly and not reducing the data.\n",
        "\n",
        "Many approcahes exists such as dropping observations with missing data, impute mean or median, carry forward last observation, regression imputation based on relevant variables etc. Unfortunalty, all these techniques tend to decrease variability or uncertainty artifically associated with data leaving the model to perform better on chance. For this tutiorial, i will briefly touch missingness assessment using package \"missingno\".\n",
        "\n"
      ],
      "metadata": {
        "id": "YLJVTLkp3gm4"
      }
    },
    {
      "cell_type": "code",
      "source": [
        "import missingno as msno"
      ],
      "metadata": {
        "id": "FDcuUWDhlzFD"
      },
      "execution_count": null,
      "outputs": []
    },
    {
      "cell_type": "code",
      "source": [
        "msno.matrix(data1)"
      ],
      "metadata": {
        "colab": {
          "base_uri": "https://localhost:8080/",
          "height": 720
        },
        "id": "mSwkJN6Ll3qm",
        "outputId": "1125b906-bcd6-4f46-aa18-45209d44ba0f"
      },
      "execution_count": null,
      "outputs": [
        {
          "output_type": "execute_result",
          "data": {
            "text/plain": [
              "<matplotlib.axes._subplots.AxesSubplot at 0x7fbd5086bb90>"
            ]
          },
          "metadata": {},
          "execution_count": 12
        },
        {
          "output_type": "display_data",
          "data": {
            "text/plain": [
              "<Figure size 1800x720 with 2 Axes>"
            ],
            "image/png": "[encoded data removed]"
          },
          "metadata": {
            "needs_background": "light"
          }
        }
      ]
    },
    {
      "cell_type": "markdown",
      "source": [
        "As observed, missingness in Biomarker 1 & 2 looks like in pairwise. That is, missingness follows. If biomarker1 is missing biomarker 2 is also missing. To handle this type of missingness and in the absence of new data acquisition/knowledge, analysis shoudl be performed two ways: one with deleting missing data (pairwise deletion) , second with using regression based interpolation and compare both the analysis."
      ],
      "metadata": {
        "id": "JwjTCaMi5_dY"
      }
    },
    {
      "cell_type": "code",
      "source": [
        "msno.dendrogram(data1)"
      ],
      "metadata": {
        "colab": {
          "base_uri": "https://localhost:8080/",
          "height": 510
        },
        "id": "qzIQLlRZhl4d",
        "outputId": "f4921a3b-f385-4092-dd0d-d1177dcc51a4"
      },
      "execution_count": null,
      "outputs": [
        {
          "output_type": "execute_result",
          "data": {
            "text/plain": [
              "<matplotlib.axes._subplots.AxesSubplot at 0x7f67cec0f5d0>"
            ]
          },
          "metadata": {},
          "execution_count": 19
        },
        {
          "output_type": "display_data",
          "data": {
            "text/plain": [
              "<Figure size 1800x720 with 1 Axes>"
            ],
            "image/png": "[encoded data removed]"
          },
          "metadata": {
            "needs_background": "light"
          }
        }
      ]
    },
    {
      "cell_type": "markdown",
      "source": [
        "It appreas from dendrogram that biomarker 1&2 has some linkage with diabetes. To explore thsi relationship further, we ll check collinearity and assess relationship between these paramaters."
      ],
      "metadata": {
        "id": "V8RHXjNC7Fv9"
      }
    },
    {
      "cell_type": "markdown",
      "source": [
        "**Collinearity**"
      ],
      "metadata": {
        "id": "udgr1GJm7dVt"
      }
    },
    {
      "cell_type": "code",
      "source": [
        "matrix = data1.corr()\n",
        "matrix.style.background_gradient(cmap='coolwarm', axis=1)\n",
        " \n"
      ],
      "metadata": {
        "colab": {
          "base_uri": "https://localhost:8080/",
          "height": 429
        },
        "id": "fiRDjttrpTKv",
        "outputId": "9f4d2443-8e9e-4e9b-8947-079ccf2fb932"
      },
      "execution_count": null,
      "outputs": [
        {
          "output_type": "execute_result",
          "data": {
            "text/plain": [
              "<pandas.io.formats.style.Styler at 0x7f67ce7d1210>"
            ],
            "text/html": [
              "<style type=\"text/css\">\n",
              "#T_fc0d1_row0_col0, #T_fc0d1_row1_col1, #T_fc0d1_row2_col2, #T_fc0d1_row3_col3, #T_fc0d1_row4_col4, #T_fc0d1_row5_col5, #T_fc0d1_row6_col6, #T_fc0d1_row7_col7, #T_fc0d1_row8_col8, #T_fc0d1_row9_col9, #T_fc0d1_row10_col10 {\n",
              "  background-color: #b40426;\n",
              "  color: #f1f1f1;\n",
              "}\n",
              "#T_fc0d1_row0_col1 {\n",
              "  background-color: #9bbcff;\n",
              "  color: #000000;\n",
              "}\n",
              "#T_fc0d1_row0_col2, #T_fc0d1_row2_col5 {\n",
              "  background-color: #4257c9;\n",
              "  color: #f1f1f1;\n",
              "}\n",
              "#T_fc0d1_row0_col3, #T_fc0d1_row1_col8 {\n",
              "  background-color: #6180e9;\n",
              "  color: #f1f1f1;\n",
              "}\n",
              "#T_fc0d1_row0_col4 {\n",
              "  background-color: #89acfd;\n",
              "  color: #000000;\n",
              "}\n",
              "#T_fc0d1_row0_col5, #T_fc0d1_row1_col3, #T_fc0d1_row2_col4, #T_fc0d1_row3_col1, #T_fc0d1_row4_col2, #T_fc0d1_row5_col9, #T_fc0d1_row6_col9, #T_fc0d1_row7_col2, #T_fc0d1_row8_col1, #T_fc0d1_row9_col6, #T_fc0d1_row10_col5 {\n",
              "  background-color: #3b4cc0;\n",
              "  color: #f1f1f1;\n",
              "}\n",
              "#T_fc0d1_row0_col6, #T_fc0d1_row3_col7, #T_fc0d1_row5_col8, #T_fc0d1_row8_col6 {\n",
              "  background-color: #779af7;\n",
              "  color: #f1f1f1;\n",
              "}\n",
              "#T_fc0d1_row0_col7, #T_fc0d1_row6_col4, #T_fc0d1_row9_col8 {\n",
              "  background-color: #6384eb;\n",
              "  color: #f1f1f1;\n",
              "}\n",
              "#T_fc0d1_row0_col8, #T_fc0d1_row5_col1, #T_fc0d1_row6_col5 {\n",
              "  background-color: #6f92f3;\n",
              "  color: #f1f1f1;\n",
              "}\n",
              "#T_fc0d1_row0_col9, #T_fc0d1_row1_col5 {\n",
              "  background-color: #88abfd;\n",
              "  color: #000000;\n",
              "}\n",
              "#T_fc0d1_row0_col10 {\n",
              "  background-color: #7a9df8;\n",
              "  color: #f1f1f1;\n",
              "}\n",
              "#T_fc0d1_row1_col0 {\n",
              "  background-color: #bfd3f6;\n",
              "  color: #000000;\n",
              "}\n",
              "#T_fc0d1_row1_col2, #T_fc0d1_row2_col9, #T_fc0d1_row5_col4 {\n",
              "  background-color: #7597f6;\n",
              "  color: #f1f1f1;\n",
              "}\n",
              "#T_fc0d1_row1_col4, #T_fc0d1_row1_col9 {\n",
              "  background-color: #688aef;\n",
              "  color: #f1f1f1;\n",
              "}\n",
              "#T_fc0d1_row1_col6 {\n",
              "  background-color: #b3cdfb;\n",
              "  color: #000000;\n",
              "}\n",
              "#T_fc0d1_row1_col7, #T_fc0d1_row3_col2 {\n",
              "  background-color: #97b8ff;\n",
              "  color: #000000;\n",
              "}\n",
              "#T_fc0d1_row1_col10 {\n",
              "  background-color: #5a78e4;\n",
              "  color: #f1f1f1;\n",
              "}\n",
              "#T_fc0d1_row2_col0, #T_fc0d1_row5_col0 {\n",
              "  background-color: #4f69d9;\n",
              "  color: #f1f1f1;\n",
              "}\n",
              "#T_fc0d1_row2_col1 {\n",
              "  background-color: #536edd;\n",
              "  color: #f1f1f1;\n",
              "}\n",
              "#T_fc0d1_row2_col3, #T_fc0d1_row4_col10, #T_fc0d1_row8_col0, #T_fc0d1_row10_col8 {\n",
              "  background-color: #799cf8;\n",
              "  color: #f1f1f1;\n",
              "}\n",
              "#T_fc0d1_row2_col6, #T_fc0d1_row2_col10 {\n",
              "  background-color: #82a6fb;\n",
              "  color: #f1f1f1;\n",
              "}\n",
              "#T_fc0d1_row2_col7 {\n",
              "  background-color: #4961d2;\n",
              "  color: #f1f1f1;\n",
              "}\n",
              "#T_fc0d1_row2_col8 {\n",
              "  background-color: #5f7fe8;\n",
              "  color: #f1f1f1;\n",
              "}\n",
              "#T_fc0d1_row3_col0, #T_fc0d1_row6_col2, #T_fc0d1_row6_col7, #T_fc0d1_row10_col7 {\n",
              "  background-color: #8db0fe;\n",
              "  color: #000000;\n",
              "}\n",
              "#T_fc0d1_row3_col4 {\n",
              "  background-color: #e2dad5;\n",
              "  color: #000000;\n",
              "}\n",
              "#T_fc0d1_row3_col5, #T_fc0d1_row5_col7, #T_fc0d1_row7_col9 {\n",
              "  background-color: #6788ee;\n",
              "  color: #f1f1f1;\n",
              "}\n",
              "#T_fc0d1_row3_col6 {\n",
              "  background-color: #5977e3;\n",
              "  color: #f1f1f1;\n",
              "}\n",
              "#T_fc0d1_row3_col8 {\n",
              "  background-color: #c5d6f2;\n",
              "  color: #000000;\n",
              "}\n",
              "#T_fc0d1_row3_col9 {\n",
              "  background-color: #bed2f6;\n",
              "  color: #000000;\n",
              "}\n",
              "#T_fc0d1_row3_col10 {\n",
              "  background-color: #f0cdbb;\n",
              "  color: #000000;\n",
              "}\n",
              "#T_fc0d1_row4_col0 {\n",
              "  background-color: #96b7ff;\n",
              "  color: #000000;\n",
              "}\n",
              "#T_fc0d1_row4_col1, #T_fc0d1_row7_col3 {\n",
              "  background-color: #485fd1;\n",
              "  color: #f1f1f1;\n",
              "}\n",
              "#T_fc0d1_row4_col3, #T_fc0d1_row8_col7 {\n",
              "  background-color: #d3dbe7;\n",
              "  color: #000000;\n",
              "}\n",
              "#T_fc0d1_row4_col5, #T_fc0d1_row5_col6 {\n",
              "  background-color: #6c8ff1;\n",
              "  color: #f1f1f1;\n",
              "}\n",
              "#T_fc0d1_row4_col6 {\n",
              "  background-color: #5875e1;\n",
              "  color: #f1f1f1;\n",
              "}\n",
              "#T_fc0d1_row4_col7 {\n",
              "  background-color: #7396f5;\n",
              "  color: #f1f1f1;\n",
              "}\n",
              "#T_fc0d1_row4_col8 {\n",
              "  background-color: #bbd1f8;\n",
              "  color: #000000;\n",
              "}\n",
              "#T_fc0d1_row4_col9 {\n",
              "  background-color: #6687ed;\n",
              "  color: #f1f1f1;\n",
              "}\n",
              "#T_fc0d1_row5_col2 {\n",
              "  background-color: #4a63d3;\n",
              "  color: #f1f1f1;\n",
              "}\n",
              "#T_fc0d1_row5_col3 {\n",
              "  background-color: #4e68d8;\n",
              "  color: #f1f1f1;\n",
              "}\n",
              "#T_fc0d1_row5_col10, #T_fc0d1_row9_col5, #T_fc0d1_row10_col1 {\n",
              "  background-color: #3d50c3;\n",
              "  color: #f1f1f1;\n",
              "}\n",
              "#T_fc0d1_row6_col0 {\n",
              "  background-color: #8fb1fe;\n",
              "  color: #000000;\n",
              "}\n",
              "#T_fc0d1_row6_col1 {\n",
              "  background-color: #a2c1ff;\n",
              "  color: #000000;\n",
              "}\n",
              "#T_fc0d1_row6_col3 {\n",
              "  background-color: #4358cb;\n",
              "  color: #f1f1f1;\n",
              "}\n",
              "#T_fc0d1_row6_col8 {\n",
              "  background-color: #85a8fc;\n",
              "  color: #f1f1f1;\n",
              "}\n",
              "#T_fc0d1_row6_col10 {\n",
              "  background-color: #455cce;\n",
              "  color: #f1f1f1;\n",
              "}\n",
              "#T_fc0d1_row7_col0 {\n",
              "  background-color: #6282ea;\n",
              "  color: #f1f1f1;\n",
              "}\n",
              "#T_fc0d1_row7_col1 {\n",
              "  background-color: #6a8bef;\n",
              "  color: #f1f1f1;\n",
              "}\n",
              "#T_fc0d1_row7_col4 {\n",
              "  background-color: #6485ec;\n",
              "  color: #f1f1f1;\n",
              "}\n",
              "#T_fc0d1_row7_col5 {\n",
              "  background-color: #506bda;\n",
              "  color: #f1f1f1;\n",
              "}\n",
              "#T_fc0d1_row7_col6 {\n",
              "  background-color: #7699f6;\n",
              "  color: #f1f1f1;\n",
              "}\n",
              "#T_fc0d1_row7_col8 {\n",
              "  background-color: #cdd9ec;\n",
              "  color: #000000;\n",
              "}\n",
              "#T_fc0d1_row7_col10 {\n",
              "  background-color: #7b9ff9;\n",
              "  color: #f1f1f1;\n",
              "}\n",
              "#T_fc0d1_row8_col2 {\n",
              "  background-color: #5b7ae5;\n",
              "  color: #f1f1f1;\n",
              "}\n",
              "#T_fc0d1_row8_col3 {\n",
              "  background-color: #abc8fd;\n",
              "  color: #000000;\n",
              "}\n",
              "#T_fc0d1_row8_col4 {\n",
              "  background-color: #b7cff9;\n",
              "  color: #000000;\n",
              "}\n",
              "#T_fc0d1_row8_col5 {\n",
              "  background-color: #6b8df0;\n",
              "  color: #f1f1f1;\n",
              "}\n",
              "#T_fc0d1_row8_col9 {\n",
              "  background-color: #5470de;\n",
              "  color: #f1f1f1;\n",
              "}\n",
              "#T_fc0d1_row8_col10, #T_fc0d1_row9_col4 {\n",
              "  background-color: #7093f3;\n",
              "  color: #f1f1f1;\n",
              "}\n",
              "#T_fc0d1_row9_col0 {\n",
              "  background-color: #9ebeff;\n",
              "  color: #000000;\n",
              "}\n",
              "#T_fc0d1_row9_col1 {\n",
              "  background-color: #516ddb;\n",
              "  color: #f1f1f1;\n",
              "}\n",
              "#T_fc0d1_row9_col2, #T_fc0d1_row9_col7 {\n",
              "  background-color: #80a3fa;\n",
              "  color: #f1f1f1;\n",
              "}\n",
              "#T_fc0d1_row9_col3 {\n",
              "  background-color: #aec9fc;\n",
              "  color: #000000;\n",
              "}\n",
              "#T_fc0d1_row9_col10 {\n",
              "  background-color: #de614d;\n",
              "  color: #f1f1f1;\n",
              "}\n",
              "#T_fc0d1_row10_col0 {\n",
              "  background-color: #8badfd;\n",
              "  color: #000000;\n",
              "}\n",
              "#T_fc0d1_row10_col2 {\n",
              "  background-color: #86a9fc;\n",
              "  color: #f1f1f1;\n",
              "}\n",
              "#T_fc0d1_row10_col3 {\n",
              "  background-color: #e8d6cc;\n",
              "  color: #000000;\n",
              "}\n",
              "#T_fc0d1_row10_col4 {\n",
              "  background-color: #7ea1fa;\n",
              "  color: #f1f1f1;\n",
              "}\n",
              "#T_fc0d1_row10_col6 {\n",
              "  background-color: #3f53c6;\n",
              "  color: #f1f1f1;\n",
              "}\n",
              "#T_fc0d1_row10_col9 {\n",
              "  background-color: #df634e;\n",
              "  color: #f1f1f1;\n",
              "}\n",
              "</style>\n",
              "<table id=\"T_fc0d1_\" class=\"dataframe\">\n",
              "  <thead>\n",
              "    <tr>\n",
              "      <th class=\"blank level0\" >&nbsp;</th>\n",
              "      <th class=\"col_heading level0 col0\" >ID</th>\n",
              "      <th class=\"col_heading level0 col1\" >Severity</th>\n",
              "      <th class=\"col_heading level0 col2\" >Disease Stage</th>\n",
              "      <th class=\"col_heading level0 col3\" >Death</th>\n",
              "      <th class=\"col_heading level0 col4\" >Age</th>\n",
              "      <th class=\"col_heading level0 col5\" >Gender</th>\n",
              "      <th class=\"col_heading level0 col6\" >Race</th>\n",
              "      <th class=\"col_heading level0 col7\" >Diabetes</th>\n",
              "      <th class=\"col_heading level0 col8\" >CHF</th>\n",
              "      <th class=\"col_heading level0 col9\" >Biomarker2</th>\n",
              "      <th class=\"col_heading level0 col10\" >Biomarker1</th>\n",
              "    </tr>\n",
              "  </thead>\n",
              "  <tbody>\n",
              "    <tr>\n",
              "      <th id=\"T_fc0d1_level0_row0\" class=\"row_heading level0 row0\" >ID</th>\n",
              "      <td id=\"T_fc0d1_row0_col0\" class=\"data row0 col0\" >1.000000</td>\n",
              "      <td id=\"T_fc0d1_row0_col1\" class=\"data row0 col1\" >0.215054</td>\n",
              "      <td id=\"T_fc0d1_row0_col2\" class=\"data row0 col2\" >-0.081753</td>\n",
              "      <td id=\"T_fc0d1_row0_col3\" class=\"data row0 col3\" >0.027126</td>\n",
              "      <td id=\"T_fc0d1_row0_col4\" class=\"data row0 col4\" >0.157752</td>\n",
              "      <td id=\"T_fc0d1_row0_col5\" class=\"data row0 col5\" >-0.109322</td>\n",
              "      <td id=\"T_fc0d1_row0_col6\" class=\"data row0 col6\" >0.102977</td>\n",
              "      <td id=\"T_fc0d1_row0_col7\" class=\"data row0 col7\" >0.035952</td>\n",
              "      <td id=\"T_fc0d1_row0_col8\" class=\"data row0 col8\" >0.074523</td>\n",
              "      <td id=\"T_fc0d1_row0_col9\" class=\"data row0 col9\" >0.153656</td>\n",
              "      <td id=\"T_fc0d1_row0_col10\" class=\"data row0 col10\" >0.109831</td>\n",
              "    </tr>\n",
              "    <tr>\n",
              "      <th id=\"T_fc0d1_level0_row1\" class=\"row_heading level0 row1\" >Severity</th>\n",
              "      <td id=\"T_fc0d1_row1_col0\" class=\"data row1 col0\" >0.215054</td>\n",
              "      <td id=\"T_fc0d1_row1_col1\" class=\"data row1 col1\" >1.000000</td>\n",
              "      <td id=\"T_fc0d1_row1_col2\" class=\"data row1 col2\" >-0.067111</td>\n",
              "      <td id=\"T_fc0d1_row1_col3\" class=\"data row1 col3\" >-0.302402</td>\n",
              "      <td id=\"T_fc0d1_row1_col4\" class=\"data row1 col4\" >-0.110874</td>\n",
              "      <td id=\"T_fc0d1_row1_col5\" class=\"data row1 col5\" >0.003009</td>\n",
              "      <td id=\"T_fc0d1_row1_col6\" class=\"data row1 col6\" >0.170185</td>\n",
              "      <td id=\"T_fc0d1_row1_col7\" class=\"data row1 col7\" >0.062976</td>\n",
              "      <td id=\"T_fc0d1_row1_col8\" class=\"data row1 col8\" >-0.144603</td>\n",
              "      <td id=\"T_fc0d1_row1_col9\" class=\"data row1 col9\" >-0.113781</td>\n",
              "      <td id=\"T_fc0d1_row1_col10\" class=\"data row1 col10\" >-0.169847</td>\n",
              "    </tr>\n",
              "    <tr>\n",
              "      <th id=\"T_fc0d1_level0_row2\" class=\"row_heading level0 row2\" >Disease Stage</th>\n",
              "      <td id=\"T_fc0d1_row2_col0\" class=\"data row2 col0\" >-0.081753</td>\n",
              "      <td id=\"T_fc0d1_row2_col1\" class=\"data row2 col1\" >-0.067111</td>\n",
              "      <td id=\"T_fc0d1_row2_col2\" class=\"data row2 col2\" >1.000000</td>\n",
              "      <td id=\"T_fc0d1_row2_col3\" class=\"data row2 col3\" >0.062183</td>\n",
              "      <td id=\"T_fc0d1_row2_col4\" class=\"data row2 col4\" >-0.160856</td>\n",
              "      <td id=\"T_fc0d1_row2_col5\" class=\"data row2 col5\" >-0.129259</td>\n",
              "      <td id=\"T_fc0d1_row2_col6\" class=\"data row2 col6\" >0.097147</td>\n",
              "      <td id=\"T_fc0d1_row2_col7\" class=\"data row2 col7\" >-0.104419</td>\n",
              "      <td id=\"T_fc0d1_row2_col8\" class=\"data row2 col8\" >-0.022000</td>\n",
              "      <td id=\"T_fc0d1_row2_col9\" class=\"data row2 col9\" >0.050556</td>\n",
              "      <td id=\"T_fc0d1_row2_col10\" class=\"data row2 col10\" >0.094266</td>\n",
              "    </tr>\n",
              "    <tr>\n",
              "      <th id=\"T_fc0d1_level0_row3\" class=\"row_heading level0 row3\" >Death</th>\n",
              "      <td id=\"T_fc0d1_row3_col0\" class=\"data row3 col0\" >0.027126</td>\n",
              "      <td id=\"T_fc0d1_row3_col1\" class=\"data row3 col1\" >-0.302402</td>\n",
              "      <td id=\"T_fc0d1_row3_col2\" class=\"data row3 col2\" >0.062183</td>\n",
              "      <td id=\"T_fc0d1_row3_col3\" class=\"data row3 col3\" >1.000000</td>\n",
              "      <td id=\"T_fc0d1_row3_col4\" class=\"data row3 col4\" >0.376303</td>\n",
              "      <td id=\"T_fc0d1_row3_col5\" class=\"data row3 col5\" >-0.117185</td>\n",
              "      <td id=\"T_fc0d1_row3_col6\" class=\"data row3 col6\" >-0.171814</td>\n",
              "      <td id=\"T_fc0d1_row3_col7\" class=\"data row3 col7\" >-0.056956</td>\n",
              "      <td id=\"T_fc0d1_row3_col8\" class=\"data row3 col8\" >0.240794</td>\n",
              "      <td id=\"T_fc0d1_row3_col9\" class=\"data row3 col9\" >0.211092</td>\n",
              "      <td id=\"T_fc0d1_row3_col10\" class=\"data row3 col10\" >0.465265</td>\n",
              "    </tr>\n",
              "    <tr>\n",
              "      <th id=\"T_fc0d1_level0_row4\" class=\"row_heading level0 row4\" >Age</th>\n",
              "      <td id=\"T_fc0d1_row4_col0\" class=\"data row4 col0\" >0.157752</td>\n",
              "      <td id=\"T_fc0d1_row4_col1\" class=\"data row4 col1\" >-0.110874</td>\n",
              "      <td id=\"T_fc0d1_row4_col2\" class=\"data row4 col2\" >-0.160856</td>\n",
              "      <td id=\"T_fc0d1_row4_col3\" class=\"data row4 col3\" >0.376303</td>\n",
              "      <td id=\"T_fc0d1_row4_col4\" class=\"data row4 col4\" >1.000000</td>\n",
              "      <td id=\"T_fc0d1_row4_col5\" class=\"data row4 col5\" >0.024011</td>\n",
              "      <td id=\"T_fc0d1_row4_col6\" class=\"data row4 col6\" >-0.048105</td>\n",
              "      <td id=\"T_fc0d1_row4_col7\" class=\"data row4 col7\" >0.045070</td>\n",
              "      <td id=\"T_fc0d1_row4_col8\" class=\"data row4 col8\" >0.283930</td>\n",
              "      <td id=\"T_fc0d1_row4_col9\" class=\"data row4 col9\" >0.000396</td>\n",
              "      <td id=\"T_fc0d1_row4_col10\" class=\"data row4 col10\" >0.065700</td>\n",
              "    </tr>\n",
              "    <tr>\n",
              "      <th id=\"T_fc0d1_level0_row5\" class=\"row_heading level0 row5\" >Gender</th>\n",
              "      <td id=\"T_fc0d1_row5_col0\" class=\"data row5 col0\" >-0.109322</td>\n",
              "      <td id=\"T_fc0d1_row5_col1\" class=\"data row5 col1\" >0.003009</td>\n",
              "      <td id=\"T_fc0d1_row5_col2\" class=\"data row5 col2\" >-0.129259</td>\n",
              "      <td id=\"T_fc0d1_row5_col3\" class=\"data row5 col3\" >-0.117185</td>\n",
              "      <td id=\"T_fc0d1_row5_col4\" class=\"data row5 col4\" >0.024011</td>\n",
              "      <td id=\"T_fc0d1_row5_col5\" class=\"data row5 col5\" >1.000000</td>\n",
              "      <td id=\"T_fc0d1_row5_col6\" class=\"data row5 col6\" >-0.006336</td>\n",
              "      <td id=\"T_fc0d1_row5_col7\" class=\"data row5 col7\" >-0.023104</td>\n",
              "      <td id=\"T_fc0d1_row5_col8\" class=\"data row5 col8\" >0.031972</td>\n",
              "      <td id=\"T_fc0d1_row5_col9\" class=\"data row5 col9\" >-0.193073</td>\n",
              "      <td id=\"T_fc0d1_row5_col10\" class=\"data row5 col10\" >-0.179346</td>\n",
              "    </tr>\n",
              "    <tr>\n",
              "      <th id=\"T_fc0d1_level0_row6\" class=\"row_heading level0 row6\" >Race</th>\n",
              "      <td id=\"T_fc0d1_row6_col0\" class=\"data row6 col0\" >0.102977</td>\n",
              "      <td id=\"T_fc0d1_row6_col1\" class=\"data row6 col1\" >0.170185</td>\n",
              "      <td id=\"T_fc0d1_row6_col2\" class=\"data row6 col2\" >0.097147</td>\n",
              "      <td id=\"T_fc0d1_row6_col3\" class=\"data row6 col3\" >-0.171814</td>\n",
              "      <td id=\"T_fc0d1_row6_col4\" class=\"data row6 col4\" >-0.048105</td>\n",
              "      <td id=\"T_fc0d1_row6_col5\" class=\"data row6 col5\" >-0.006336</td>\n",
              "      <td id=\"T_fc0d1_row6_col6\" class=\"data row6 col6\" >1.000000</td>\n",
              "      <td id=\"T_fc0d1_row6_col7\" class=\"data row6 col7\" >0.099449</td>\n",
              "      <td id=\"T_fc0d1_row6_col8\" class=\"data row6 col8\" >0.070262</td>\n",
              "      <td id=\"T_fc0d1_row6_col9\" class=\"data row6 col9\" >-0.205508</td>\n",
              "      <td id=\"T_fc0d1_row6_col10\" class=\"data row6 col10\" >-0.159421</td>\n",
              "    </tr>\n",
              "    <tr>\n",
              "      <th id=\"T_fc0d1_level0_row7\" class=\"row_heading level0 row7\" >Diabetes</th>\n",
              "      <td id=\"T_fc0d1_row7_col0\" class=\"data row7 col0\" >0.035952</td>\n",
              "      <td id=\"T_fc0d1_row7_col1\" class=\"data row7 col1\" >0.062976</td>\n",
              "      <td id=\"T_fc0d1_row7_col2\" class=\"data row7 col2\" >-0.104419</td>\n",
              "      <td id=\"T_fc0d1_row7_col3\" class=\"data row7 col3\" >-0.056956</td>\n",
              "      <td id=\"T_fc0d1_row7_col4\" class=\"data row7 col4\" >0.045070</td>\n",
              "      <td id=\"T_fc0d1_row7_col5\" class=\"data row7 col5\" >-0.023104</td>\n",
              "      <td id=\"T_fc0d1_row7_col6\" class=\"data row7 col6\" >0.099449</td>\n",
              "      <td id=\"T_fc0d1_row7_col7\" class=\"data row7 col7\" >1.000000</td>\n",
              "      <td id=\"T_fc0d1_row7_col8\" class=\"data row7 col8\" >0.383254</td>\n",
              "      <td id=\"T_fc0d1_row7_col9\" class=\"data row7 col9\" >0.051614</td>\n",
              "      <td id=\"T_fc0d1_row7_col10\" class=\"data row7 col10\" >0.115934</td>\n",
              "    </tr>\n",
              "    <tr>\n",
              "      <th id=\"T_fc0d1_level0_row8\" class=\"row_heading level0 row8\" >CHF</th>\n",
              "      <td id=\"T_fc0d1_row8_col0\" class=\"data row8 col0\" >0.074523</td>\n",
              "      <td id=\"T_fc0d1_row8_col1\" class=\"data row8 col1\" >-0.144603</td>\n",
              "      <td id=\"T_fc0d1_row8_col2\" class=\"data row8 col2\" >-0.022000</td>\n",
              "      <td id=\"T_fc0d1_row8_col3\" class=\"data row8 col3\" >0.240794</td>\n",
              "      <td id=\"T_fc0d1_row8_col4\" class=\"data row8 col4\" >0.283930</td>\n",
              "      <td id=\"T_fc0d1_row8_col5\" class=\"data row8 col5\" >0.031972</td>\n",
              "      <td id=\"T_fc0d1_row8_col6\" class=\"data row8 col6\" >0.070262</td>\n",
              "      <td id=\"T_fc0d1_row8_col7\" class=\"data row8 col7\" >0.383254</td>\n",
              "      <td id=\"T_fc0d1_row8_col8\" class=\"data row8 col8\" >1.000000</td>\n",
              "      <td id=\"T_fc0d1_row8_col9\" class=\"data row8 col9\" >-0.048561</td>\n",
              "      <td id=\"T_fc0d1_row8_col10\" class=\"data row8 col10\" >0.048832</td>\n",
              "    </tr>\n",
              "    <tr>\n",
              "      <th id=\"T_fc0d1_level0_row9\" class=\"row_heading level0 row9\" >Biomarker2</th>\n",
              "      <td id=\"T_fc0d1_row9_col0\" class=\"data row9 col0\" >0.153656</td>\n",
              "      <td id=\"T_fc0d1_row9_col1\" class=\"data row9 col1\" >-0.113781</td>\n",
              "      <td id=\"T_fc0d1_row9_col2\" class=\"data row9 col2\" >0.050556</td>\n",
              "      <td id=\"T_fc0d1_row9_col3\" class=\"data row9 col3\" >0.211092</td>\n",
              "      <td id=\"T_fc0d1_row9_col4\" class=\"data row9 col4\" >0.000396</td>\n",
              "      <td id=\"T_fc0d1_row9_col5\" class=\"data row9 col5\" >-0.193073</td>\n",
              "      <td id=\"T_fc0d1_row9_col6\" class=\"data row9 col6\" >-0.205508</td>\n",
              "      <td id=\"T_fc0d1_row9_col7\" class=\"data row9 col7\" >0.051614</td>\n",
              "      <td id=\"T_fc0d1_row9_col8\" class=\"data row9 col8\" >-0.048561</td>\n",
              "      <td id=\"T_fc0d1_row9_col9\" class=\"data row9 col9\" >1.000000</td>\n",
              "      <td id=\"T_fc0d1_row9_col10\" class=\"data row9 col10\" >0.845241</td>\n",
              "    </tr>\n",
              "    <tr>\n",
              "      <th id=\"T_fc0d1_level0_row10\" class=\"row_heading level0 row10\" >Biomarker1</th>\n",
              "      <td id=\"T_fc0d1_row10_col0\" class=\"data row10 col0\" >0.109831</td>\n",
              "      <td id=\"T_fc0d1_row10_col1\" class=\"data row10 col1\" >-0.169847</td>\n",
              "      <td id=\"T_fc0d1_row10_col2\" class=\"data row10 col2\" >0.094266</td>\n",
              "      <td id=\"T_fc0d1_row10_col3\" class=\"data row10 col3\" >0.465265</td>\n",
              "      <td id=\"T_fc0d1_row10_col4\" class=\"data row10 col4\" >0.065700</td>\n",
              "      <td id=\"T_fc0d1_row10_col5\" class=\"data row10 col5\" >-0.179346</td>\n",
              "      <td id=\"T_fc0d1_row10_col6\" class=\"data row10 col6\" >-0.159421</td>\n",
              "      <td id=\"T_fc0d1_row10_col7\" class=\"data row10 col7\" >0.115934</td>\n",
              "      <td id=\"T_fc0d1_row10_col8\" class=\"data row10 col8\" >0.048832</td>\n",
              "      <td id=\"T_fc0d1_row10_col9\" class=\"data row10 col9\" >0.845241</td>\n",
              "      <td id=\"T_fc0d1_row10_col10\" class=\"data row10 col10\" >1.000000</td>\n",
              "    </tr>\n",
              "  </tbody>\n",
              "</table>\n"
            ]
          },
          "metadata": {},
          "execution_count": 25
        }
      ]
    },
    {
      "cell_type": "markdown",
      "source": [
        "As observed, biomarker 1 & 2 are highly correlated with correlation of ~84.5%. Another, bioamrker & death coorelation also seems to high of about 46.5%. However, corrleation with diabetes is 6% high for biomarker 1 compared to biomarker 2."
      ],
      "metadata": {
        "id": "F60bdcdx7hFa"
      }
    },
    {
      "cell_type": "code",
      "source": [
        "sns.lmplot(x='Biomarker1', y='Biomarker2', hue='Diabetes', fit_reg=False, data=data1)\n",
        "plt.title('Biomarker relationship by diabetes')\n",
        "plt.show()"
      ],
      "metadata": {
        "colab": {
          "base_uri": "https://localhost:8080/",
          "height": 385
        },
        "id": "R8cJ0OxDrXuR",
        "outputId": "d7c67ad2-fa7f-44ab-96fe-ad947c300f84"
      },
      "execution_count": null,
      "outputs": [
        {
          "output_type": "display_data",
          "data": {
            "text/plain": [
              "<Figure size 412.375x360 with 1 Axes>"
            ],
            "image/png": "[encoded data removed]"
          },
          "metadata": {
            "needs_background": "light"
          }
        }
      ]
    },
    {
      "cell_type": "markdown",
      "source": [
        "To explore more, scatter plot above shows a linear relationship with biomarker so regression based technique for interpolation would be appropriate under the assumption that both entities are independant. Upon stratifying with diabetes, the trend seems to follow the same."
      ],
      "metadata": {
        "id": "UxWeDLIS8PCe"
      }
    },
    {
      "cell_type": "code",
      "source": [
        "sns.violinplot(y=\"Biomarker1\", x=\"Diabetes\", hue=\"Diabetes\",\n",
        "                    data=data1, palette=\"Set2\",split=True)\n",
        "sns.swarmplot(x=\"Diabetes\", y=\"Biomarker1\", color=\"k\",data=data1, alpha=0.8)\n",
        "plt.title('Biomarker by diabetes status')\n",
        "plt.show()\n",
        "\n",
        "\n",
        "\n",
        "sns.violinplot(y=\"Biomarker2\", x=\"Diabetes\", hue=\"Diabetes\",\n",
        "                    data=data1, palette=\"Set2\",split=True)\n",
        "sns.swarmplot(x=\"Diabetes\", y=\"Biomarker2\", color=\"k\",data=data1, alpha=0.8)\n",
        "plt.title('Biomarker by diabetes status')\n",
        "plt.show() "
      ],
      "metadata": {
        "colab": {
          "base_uri": "https://localhost:8080/",
          "height": 573
        },
        "id": "S8ksT8bkswXs",
        "outputId": "a8c9717f-3997-48ef-9067-130c78e9df9b"
      },
      "execution_count": null,
      "outputs": [
        {
          "output_type": "display_data",
          "data": {
            "text/plain": [
              "<Figure size 432x288 with 1 Axes>"
            ],
            "image/png": "[encoded data removed]"
          },
          "metadata": {
            "needs_background": "light"
          }
        },
        {
          "output_type": "display_data",
          "data": {
            "text/plain": [
              "<Figure size 432x288 with 1 Axes>"
            ],
            "image/png": "[encoded data removed]"
          },
          "metadata": {
            "needs_background": "light"
          }
        }
      ]
    },
    {
      "cell_type": "code",
      "source": [
        "sns.displot(\n",
        "  data=data1,\n",
        "  x=\"Biomarker1\",\n",
        "  y=\"Biomarker2\",\n",
        "  col=\"Diabetes\"\n",
        ")"
      ],
      "metadata": {
        "colab": {
          "base_uri": "https://localhost:8080/",
          "height": 387
        },
        "id": "0noHGL22zSF3",
        "outputId": "7f2d744c-11b1-49b5-860e-9ddf81418cee"
      },
      "execution_count": null,
      "outputs": [
        {
          "output_type": "execute_result",
          "data": {
            "text/plain": [
              "<seaborn.axisgrid.FacetGrid at 0x7fbd4e660d90>"
            ]
          },
          "metadata": {},
          "execution_count": 14
        },
        {
          "output_type": "display_data",
          "data": {
            "text/plain": [
              "<Figure size 720x360 with 2 Axes>"
            ],
            "image/png": "[encoded data removed]"
          },
          "metadata": {
            "needs_background": "light"
          }
        }
      ]
    },
    {
      "cell_type": "markdown",
      "source": [
        "Above signified that corrleation exisist more at lower ranges and outlier is present in diabetic population. It can further help us determining the validity of these values. "
      ],
      "metadata": {
        "id": "GKG_ZuNA9F8u"
      }
    },
    {
      "cell_type": "markdown",
      "source": [
        "Detailed EDA is building block for accurate model development.Through this tutrioal, one can go in great length to get the essence of the data, hence making predictions more accurate."
      ],
      "metadata": {
        "id": "pvx7S6Wx9y7Q"
      }
    },
    {
      "cell_type": "markdown",
      "source": [
        "### Cheers,\n",
        "### Priyanka \n",
        "\n"
      ],
      "metadata": {
        "id": "Dq2iZWMR9jFl"
      }
    }
  ]
}